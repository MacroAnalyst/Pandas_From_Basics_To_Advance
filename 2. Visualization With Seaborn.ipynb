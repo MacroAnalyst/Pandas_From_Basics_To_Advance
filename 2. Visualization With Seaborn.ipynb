{
 "cells": [
  {
   "cell_type": "code",
   "execution_count": 1,
   "id": "bfe397ab-5c9f-45de-a6b9-cce4ecdd4ae2",
   "metadata": {},
   "outputs": [],
   "source": [
    "import pandas as pd\n",
    "import numpy as np\n",
    "import matplotlib.pyplot as plt\n",
    "import seaborn as sns"
   ]
  },
  {
   "cell_type": "markdown",
   "id": "29a8db42-3e9c-475d-9aab-c60a38af2a67",
   "metadata": {},
   "source": [
    "Seaborn goes hand in hand with Pandas in the data science industry. In this chapter, we will walk through all basic skills of seaborn."
   ]
  },
  {
   "cell_type": "code",
   "execution_count": 2,
   "id": "395420a6-b30a-4dd7-b6a2-c2df4aadfa32",
   "metadata": {},
   "outputs": [
    {
     "data": {
      "text/html": [
       "<div>\n",
       "<style scoped>\n",
       "    .dataframe tbody tr th:only-of-type {\n",
       "        vertical-align: middle;\n",
       "    }\n",
       "\n",
       "    .dataframe tbody tr th {\n",
       "        vertical-align: top;\n",
       "    }\n",
       "\n",
       "    .dataframe thead th {\n",
       "        text-align: right;\n",
       "    }\n",
       "</style>\n",
       "<table border=\"1\" class=\"dataframe\">\n",
       "  <thead>\n",
       "    <tr style=\"text-align: right;\">\n",
       "      <th></th>\n",
       "      <th>ISO3</th>\n",
       "      <th>Countries and areas</th>\n",
       "      <th>Region</th>\n",
       "      <th>Sub-region</th>\n",
       "      <th>Development Regions</th>\n",
       "      <th>Total</th>\n",
       "      <th>Female</th>\n",
       "      <th>Male</th>\n",
       "      <th>Rural_Residence</th>\n",
       "      <th>Urban_Residence</th>\n",
       "      <th>Poorest_Wealth quintile</th>\n",
       "      <th>Second_Wealth quintile</th>\n",
       "      <th>Middle_Wealth quintile</th>\n",
       "      <th>Fourth_Wealth quintile</th>\n",
       "      <th>Richest_Wealth quintile</th>\n",
       "      <th>Data source</th>\n",
       "      <th>Time period</th>\n",
       "    </tr>\n",
       "  </thead>\n",
       "  <tbody>\n",
       "    <tr>\n",
       "      <th>0</th>\n",
       "      <td>AFG</td>\n",
       "      <td>Afghanistan</td>\n",
       "      <td>SA</td>\n",
       "      <td>SA</td>\n",
       "      <td>Least Developed</td>\n",
       "      <td>37.0</td>\n",
       "      <td>47.0</td>\n",
       "      <td>28.0</td>\n",
       "      <td>42.0</td>\n",
       "      <td>19.0</td>\n",
       "      <td>42.0</td>\n",
       "      <td>47.0</td>\n",
       "      <td>46.0</td>\n",
       "      <td>32.0</td>\n",
       "      <td>16.0</td>\n",
       "      <td>DHS 2015</td>\n",
       "      <td>2015.0</td>\n",
       "    </tr>\n",
       "    <tr>\n",
       "      <th>1</th>\n",
       "      <td>ALB</td>\n",
       "      <td>Albania</td>\n",
       "      <td>ECA</td>\n",
       "      <td>EECA</td>\n",
       "      <td>More Developed</td>\n",
       "      <td>2.0</td>\n",
       "      <td>2.0</td>\n",
       "      <td>3.0</td>\n",
       "      <td>4.0</td>\n",
       "      <td>1.0</td>\n",
       "      <td>4.0</td>\n",
       "      <td>3.0</td>\n",
       "      <td>2.0</td>\n",
       "      <td>2.0</td>\n",
       "      <td>1.0</td>\n",
       "      <td>DHS 2017-18</td>\n",
       "      <td>2018.0</td>\n",
       "    </tr>\n",
       "    <tr>\n",
       "      <th>2</th>\n",
       "      <td>DZA</td>\n",
       "      <td>Algeria</td>\n",
       "      <td>MENA</td>\n",
       "      <td>MENA</td>\n",
       "      <td>Less Developed</td>\n",
       "      <td>2.0</td>\n",
       "      <td>2.0</td>\n",
       "      <td>2.0</td>\n",
       "      <td>2.0</td>\n",
       "      <td>2.0</td>\n",
       "      <td>3.0</td>\n",
       "      <td>2.0</td>\n",
       "      <td>2.0</td>\n",
       "      <td>2.0</td>\n",
       "      <td>1.0</td>\n",
       "      <td>MICS 2012-13</td>\n",
       "      <td>2013.0</td>\n",
       "    </tr>\n",
       "    <tr>\n",
       "      <th>3</th>\n",
       "      <td>AND</td>\n",
       "      <td>Andorra</td>\n",
       "      <td>ECA</td>\n",
       "      <td>WE</td>\n",
       "      <td>More Developed</td>\n",
       "      <td>NaN</td>\n",
       "      <td>NaN</td>\n",
       "      <td>NaN</td>\n",
       "      <td>NaN</td>\n",
       "      <td>NaN</td>\n",
       "      <td>NaN</td>\n",
       "      <td>NaN</td>\n",
       "      <td>NaN</td>\n",
       "      <td>NaN</td>\n",
       "      <td>NaN</td>\n",
       "      <td>NaN</td>\n",
       "      <td>NaN</td>\n",
       "    </tr>\n",
       "    <tr>\n",
       "      <th>4</th>\n",
       "      <td>AGO</td>\n",
       "      <td>Angola</td>\n",
       "      <td>SSA</td>\n",
       "      <td>ESA</td>\n",
       "      <td>Least Developed</td>\n",
       "      <td>22.0</td>\n",
       "      <td>22.0</td>\n",
       "      <td>21.0</td>\n",
       "      <td>35.0</td>\n",
       "      <td>14.0</td>\n",
       "      <td>39.0</td>\n",
       "      <td>33.0</td>\n",
       "      <td>19.0</td>\n",
       "      <td>12.0</td>\n",
       "      <td>5.0</td>\n",
       "      <td>DHS 2015-16</td>\n",
       "      <td>2016.0</td>\n",
       "    </tr>\n",
       "  </tbody>\n",
       "</table>\n",
       "</div>"
      ],
      "text/plain": [
       "  ISO3 Countries and areas Region Sub-region Development Regions  Total  \\\n",
       "0  AFG         Afghanistan     SA         SA     Least Developed   37.0   \n",
       "1  ALB             Albania    ECA       EECA      More Developed    2.0   \n",
       "2  DZA             Algeria   MENA       MENA      Less Developed    2.0   \n",
       "3  AND             Andorra    ECA         WE      More Developed    NaN   \n",
       "4  AGO              Angola    SSA        ESA     Least Developed   22.0   \n",
       "\n",
       "   Female  Male  Rural_Residence  Urban_Residence  Poorest_Wealth quintile  \\\n",
       "0    47.0  28.0             42.0             19.0                     42.0   \n",
       "1     2.0   3.0              4.0              1.0                      4.0   \n",
       "2     2.0   2.0              2.0              2.0                      3.0   \n",
       "3     NaN   NaN              NaN              NaN                      NaN   \n",
       "4    22.0  21.0             35.0             14.0                     39.0   \n",
       "\n",
       "   Second_Wealth quintile  Middle_Wealth quintile  Fourth_Wealth quintile  \\\n",
       "0                    47.0                    46.0                    32.0   \n",
       "1                     3.0                     2.0                     2.0   \n",
       "2                     2.0                     2.0                     2.0   \n",
       "3                     NaN                     NaN                     NaN   \n",
       "4                    33.0                    19.0                    12.0   \n",
       "\n",
       "   Richest_Wealth quintile   Data source  Time period  \n",
       "0                     16.0      DHS 2015       2015.0  \n",
       "1                      1.0   DHS 2017-18       2018.0  \n",
       "2                      1.0  MICS 2012-13       2013.0  \n",
       "3                      NaN           NaN          NaN  \n",
       "4                      5.0   DHS 2015-16       2016.0  "
      ]
     },
     "execution_count": 2,
     "metadata": {},
     "output_type": "execute_result"
    }
   ],
   "source": [
    "out_school_df = pd.read_csv('out_prim_school_rate.csv')\n",
    "out_school_df.head()"
   ]
  },
  {
   "cell_type": "code",
   "execution_count": 3,
   "id": "7e42ab52-8c6c-4141-9594-ad823468b602",
   "metadata": {},
   "outputs": [
    {
     "data": {
      "text/plain": [
       "<AxesSubplot:xlabel='Development Regions', ylabel='count'>"
      ]
     },
     "execution_count": 3,
     "metadata": {},
     "output_type": "execute_result"
    },
    {
     "data": {
      "image/png": "[encoded data removed]",
      "text/plain": [
       "<Figure size 432x288 with 1 Axes>"
      ]
     },
     "metadata": {
      "needs_background": "light"
     },
     "output_type": "display_data"
    }
   ],
   "source": [
    "sns.countplot(x='Development Regions', data=out_school_df)"
   ]
  },
  {
   "cell_type": "code",
   "execution_count": null,
   "id": "8b297e7b-39f6-45fa-895f-955198a4d66a",
   "metadata": {},
   "outputs": [],
   "source": []
  }
 ],
 "metadata": {
  "kernelspec": {
   "display_name": "Python 3",
   "language": "python",
   "name": "python3"
  },
  "language_info": {
   "codemirror_mode": {
    "name": "ipython",
    "version": 3
   },
   "file_extension": ".py",
   "mimetype": "text/x-python",
   "name": "python",
   "nbconvert_exporter": "python",
   "pygments_lexer": "ipython3",
   "version": "3.8.8"
  }
 },
 "nbformat": 4,
 "nbformat_minor": 5
}
